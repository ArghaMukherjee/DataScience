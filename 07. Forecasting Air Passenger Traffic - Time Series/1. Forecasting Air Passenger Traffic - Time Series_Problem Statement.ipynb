{
 "cells": [
  {
   "cell_type": "markdown",
   "metadata": {},
   "source": [
    "# Problem Statement\n",
    "\n",
    "An airline company has the data of the number of passengers that have travelled with them on a particular route for the past few years. Using this data, they want to see if they can forecast the number of passengers for the next twelve months.\n",
    "\n",
    " \n",
    "\n",
    "Making this forecast could be quite beneficial to the company as it would help them take some crucial decisions like - \n",
    "\n",
    "- What capacity aircraft should they use?\n",
    "- When should they fly?\n",
    "- How many air hostesses and pilots do they need?\n",
    "- How much food should they stock in their inventory?"
   ]
  }
 ],
 "metadata": {
  "kernelspec": {
   "display_name": "Python 3",
   "language": "python",
   "name": "python3"
  },
  "language_info": {
   "codemirror_mode": {
    "name": "ipython",
    "version": 3
   },
   "file_extension": ".py",
   "mimetype": "text/x-python",
   "name": "python",
   "nbconvert_exporter": "python",
   "pygments_lexer": "ipython3",
   "version": "3.7.3"
  }
 },
 "nbformat": 4,
 "nbformat_minor": 2
}
