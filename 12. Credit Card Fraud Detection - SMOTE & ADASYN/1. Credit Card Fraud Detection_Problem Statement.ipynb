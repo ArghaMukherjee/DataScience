{
 "cells": [
  {
   "cell_type": "markdown",
   "metadata": {},
   "source": [
    "# Problem Statement\n",
    "\n",
    "The problem statement chosen for this project is **to predict fraudulent credit card transactions with the help of machine learning models**.\n",
    "\n",
    " \n",
    "\n",
    "In this project, you will analyse customer-level data which has been collected and analysed during a research collaboration of Worldline and the Machine Learning Group. \n",
    "\n",
    " \n",
    "\n",
    "The dataset is taken from the [Kaggle website](https://www.kaggle.com/mlg-ulb/creditcardfraud) and it has a total of **2,84,807 transactions**, out of which **492** are fraudulent. Since the dataset is highly imbalanced, so it needs to be handled before model building."
   ]
  },
  {
   "cell_type": "markdown",
   "metadata": {},
   "source": [
    "# Business Problem Overview\n",
    "For many banks, retaining high profitable customers is the number one business goal. Banking fraud, however, poses a significant threat to this goal for different banks. In terms of substantial financial losses, trust and credibility, this is a concerning issue to both banks and customers alike.\n",
    "\n",
    "\n",
    "It has been estimated by Nilson report that by 2020 the banking frauds would account to **$30 billion** worldwide. With the rise in digital payment channels, the number of fraudulent transactions is also increasing with new and different ways. \n",
    "\n",
    " \n",
    "\n",
    "In the banking industry, credit card fraud detection using machine learning is not just a trend but a necessity for them to put proactive monitoring and fraud prevention mechanisms in place. Machine learning is helping these institutions to reduce time-consuming manual reviews, costly chargebacks and fees, and denials of legitimate transactions."
   ]
  },
  {
   "cell_type": "markdown",
   "metadata": {},
   "source": [
    "# Understanding and Defining Fraud\n",
    "Credit card fraud is any dishonest act and behaviour to obtain information without the proper authorization from the account holder for financial gain. Among different ways of frauds, Skimming is the most common one, which is the way of duplicating of information located on the magnetic strip of the card.  Apart from this, the other ways are:\n",
    "\n",
    "- Manipulation/alteration of genuine cards\n",
    "- Creation of counterfeit cards\n",
    "- Stolen/lost credit cards\n",
    "- Fraudulent telemarketing"
   ]
  },
  {
   "cell_type": "markdown",
   "metadata": {},
   "source": [
    "# Data Dictionary\n",
    "The dataset can be download using this [link](https://www.kaggle.com/mlg-ulb/creditcardfraud)\n",
    "\n",
    " \n",
    "\n",
    "The data set includes credit card transactions made by European cardholders over a period of two days in September 2013. **Out of a total of 2,84,807 transactions, 492 were fraudulent**. This data set is highly unbalanced, **with the positive class (frauds) accounting for 0.172% of the total transactions**. The data set has also been modified with Principal Component Analysis (PCA) to maintain confidentiality. Apart from ‘time’ and ‘amount’, all the other features **(V1, V2, V3, up to V28)** are the principal components obtained using PCA. The feature 'time' contains the seconds elapsed between the first transaction in the data set and the subsequent transactions. The feature 'amount' is the transaction amount. The **feature 'class' represents class labelling**, and it takes the value 1 in cases of fraud and 0 in others."
   ]
  }
 ],
 "metadata": {
  "kernelspec": {
   "display_name": "Python 3",
   "language": "python",
   "name": "python3"
  },
  "language_info": {
   "codemirror_mode": {
    "name": "ipython",
    "version": 3
   },
   "file_extension": ".py",
   "mimetype": "text/x-python",
   "name": "python",
   "nbconvert_exporter": "python",
   "pygments_lexer": "ipython3",
   "version": "3.7.3"
  }
 },
 "nbformat": 4,
 "nbformat_minor": 2
}
