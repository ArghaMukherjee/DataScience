{
 "cells": [
  {
   "cell_type": "markdown",
   "metadata": {},
   "source": [
    "# Problem Statement:\n",
    "\n",
    "A Portuguese bank had conducted a telemarketing campaign somewhere in late 2010 to sell term deposit. The bank collected data of around 41,000 prospects.\n",
    "Aim is to analyse this historic data so that the bank can launch another telemarketing capaign to sell the same product with better cost management.\n",
    "As an analyst, below are the questions to be answered:\n",
    "1. Which prospects are more likely to buy ?\n",
    "2. Which attributes determine the propensity to buy a term deposit?\n",
    "3. Once the likelihood of response is predicted, how many prospects should be targetted?\n",
    "4. By how much can the marketing cost be reduced using the model and how many prospects can be acquired?\n",
    "\n",
    "In short, the problem statement is:\n",
    "1. To reduce the customer acquisition cost by targeting the ones who are likely to buy.\n",
    "2. To improve the response rate.\n",
    "\n",
    "Also, Set the business objective to achieving 80% of total responders at the minimum possible cost. The total number of responders is the total number of prospects who responded, from the available data of about 41,000 prospects.\n",
    "\n",
    " \n",
    "\n",
    "Based on this information, calculate the X in the top X%, i.e., how many prospects should be called to meet the business objective. Further, create a presentation for the CMO highlighting the results and the methodology employed.\n",
    "\n",
    "### Data:\n",
    "1. Customer data: Demographic data, data about products likes home loans, previous loans, etc\n",
    "2. Capaign data: data about the previous campaign\n",
    "3. Macro social and economic variables: data about the employment variation rate, number of employees, etc\n",
    "4. Target variable: Reponse(Y/N)"
   ]
  },
  {
   "cell_type": "code",
   "execution_count": null,
   "metadata": {},
   "outputs": [],
   "source": []
  }
 ],
 "metadata": {
  "kernelspec": {
   "display_name": "Python 3",
   "language": "python",
   "name": "python3"
  },
  "language_info": {
   "codemirror_mode": {
    "name": "ipython",
    "version": 3
   },
   "file_extension": ".py",
   "mimetype": "text/x-python",
   "name": "python",
   "nbconvert_exporter": "python",
   "pygments_lexer": "ipython3",
   "version": "3.7.3"
  }
 },
 "nbformat": 4,
 "nbformat_minor": 2
}
